{
 "cells": [
  {
   "cell_type": "markdown",
   "metadata": {},
   "source": [
    "### Download targeted ticker historical in mins"
   ]
  },
  {
   "cell_type": "code",
   "execution_count": null,
   "metadata": {},
   "outputs": [],
   "source": [
    "import os\n",
    "\n",
    "import pandas as pd\n",
    "from tqdm import tqdm\n",
    "\n",
    "import alpaca_trade_api as tradeapi\n",
    "from alpaca_trade_api.rest import TimeFrame\n",
    "import alpaca_conf_paper"
   ]
  },
  {
   "cell_type": "code",
   "execution_count": null,
   "metadata": {},
   "outputs": [],
   "source": [
    "api = tradeapi.REST()\n",
    "\n",
    "DATADIR = os.path.join(os.getcwd(), 'historical-market-data')\n",
    "\n",
    "# list of symbols\n",
    "SYMBOLS = ['AAPL']\n",
    "FROM_DATE = '2016-01-04'\n",
    "TO_DATE = '2021-12-31'\n",
    "\n",
    "if not os.path.exists(DATADIR):\n",
    "    os.mkdir(DATADIR)\n",
    "    \n",
    "date_range = pd.date_range(FROM_DATE, TO_DATE)"
   ]
  },
  {
   "cell_type": "code",
   "execution_count": null,
   "metadata": {},
   "outputs": [],
   "source": [
    "for symbol in SYMBOLS:\n",
    "    for fromdate in tqdm(date_range):\n",
    "        \n",
    "        # skip weekends\n",
    "        if fromdate.dayofweek > 4:\n",
    "            continue\n",
    "\n",
    "        _from = fromdate.strftime('%Y-%m-%d')\n",
    "#         _to = (fromdate + pd.Timedelta(days = 1)).strftime('%Y-%m-%d')\n",
    "        _to = fromdate.strftime('%Y-%m-%d')\n",
    "\n",
    "        file_name = f'{symbol}-{_from}.csv'\n",
    "        full_name = os.path.join(DATADIR, file_name)\n",
    "        \n",
    "        if os.path.exists(full_name):\n",
    "            continue\n",
    "            \n",
    "        tqdm.write(f'{_from}')\n",
    "        \n",
    "        # download data as a pandas dataframe format\n",
    "        df = api.get_bars(\n",
    "            symbol, \n",
    "            TimeFrame.Minute, \n",
    "            _from, \n",
    "            _to, \n",
    "            adjustment='raw'\n",
    "        ).df\n",
    "\n",
    "\n",
    "        if df.empty:\n",
    "            tqdm.write(f'Error downloading data for date {_from}')\n",
    "            continue\n",
    "\n",
    "        # filter market time only\n",
    "        df = df.between_time('9:30', '16:00')\n",
    "\n",
    "        df.to_csv(full_name)\n"
   ]
  }
 ],
 "metadata": {
  "kernelspec": {
   "display_name": "Python 3",
   "language": "python",
   "name": "python3"
  },
  "language_info": {
   "codemirror_mode": {
    "name": "ipython",
    "version": 3
   },
   "file_extension": ".py",
   "mimetype": "text/x-python",
   "name": "python",
   "nbconvert_exporter": "python",
   "pygments_lexer": "ipython3",
   "version": "3.7.4"
  }
 },
 "nbformat": 4,
 "nbformat_minor": 4
}
